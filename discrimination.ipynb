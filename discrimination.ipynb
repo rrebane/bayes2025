{
 "cells": [
  {
   "cell_type": "code",
   "execution_count": null,
   "metadata": {},
   "outputs": [],
   "source": [
    "import pandas as pd\n",
    "import numpy as np\n",
    "import altair as alt\n",
    "\n",
    "import pymc as pm\n",
    "import arviz as az\n",
    "\n",
    "data = pd.read_csv('./data/discrimination.csv', index_col=0)\n",
    "\n",
    "data.head()\n"
   ]
  },
  {
   "cell_type": "code",
   "execution_count": null,
   "metadata": {},
   "outputs": [],
   "source": [
    "data.groupby('discrimination').conservative.value_counts(normalize=True)"
   ]
  },
  {
   "cell_type": "code",
   "execution_count": null,
   "metadata": {},
   "outputs": [],
   "source": [
    "\n",
    "alt.Chart(data.replace({0: 'No', 1: 'Yes'}), width=300).mark_bar().encode(\n",
    "    x='conservative:N',\n",
    "    xOffset='discrimination:N',\n",
    "    y='count()',\n",
    "    color='discrimination:N'\n",
    ")"
   ]
  },
  {
   "cell_type": "code",
   "execution_count": null,
   "metadata": {},
   "outputs": [],
   "source": [
    "### Let's code the model\n",
    "\n",
    "coords = {\"predictors\": [\"conservative\"]}\n",
    "\n",
    "with pm.Model(coords=coords) as model:\n",
    "    alpha = pm.Normal(\"alpha\", mu=0, sigma=10)\n",
    "    beta_conservative = pm.Normal(\"beta_conservative\", mu=0, sigma=10)\n",
    "    \n",
    "    p = pm.math.sigmoid(alpha + beta_conservative * data[\"conservative\"])\n",
    "    likelihood = pm.Bernoulli(\"discrimination\", p=p, observed=data[\"discrimination\"])\n",
    "    \n",
    "    trace = pm.sample()\n",
    "\n",
    "print(\"NModel summary:\")\n",
    "pm.summary(trace)"
   ]
  },
  {
   "cell_type": "code",
   "execution_count": null,
   "metadata": {},
   "outputs": [],
   "source": []
  }
 ],
 "metadata": {
  "kernelspec": {
   "display_name": "salk",
   "language": "python",
   "name": "salk"
  },
  "language_info": {
   "codemirror_mode": {
    "name": "ipython",
    "version": 3
   },
   "file_extension": ".py",
   "mimetype": "text/x-python",
   "name": "python",
   "nbconvert_exporter": "python",
   "pygments_lexer": "ipython3",
   "version": "3.12.9"
  }
 },
 "nbformat": 4,
 "nbformat_minor": 2
}
