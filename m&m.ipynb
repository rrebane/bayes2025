{
 "cells": [
  {
   "cell_type": "markdown",
   "id": "dd38f514-c06b-473d-960e-6f3e760d903f",
   "metadata": {},
   "source": [
    "## M&M MUDEL\n",
    "\n",
    "Laadime teegid ning vaatlused"
   ]
  },
  {
   "cell_type": "code",
   "execution_count": null,
   "id": "1d308208-f70b-4524-b73e-6f42ce629e66",
   "metadata": {},
   "outputs": [],
   "source": [
    "import numpy as np\n",
    "import pandas as pd\n",
    "\n",
    "import pymc as pm\n",
    "import arviz as az\n",
    "\n",
    "import altair as alt\n",
    "\n",
    "n_sinised = [28, 21, 19, 19, 15, 18, 19, 14]\n",
    "n_total = [83, 78, 82, 79, 74, 78, 75, 79]\n",
    "\n",
    "sinised = np.sum(n_sinised)\n",
    "total = np.sum(n_total)\n",
    "\n",
    "sample = np.concatenate((np.repeat(1, sinised), np.repeat(0, total - sinised)))\n",
    "\n",
    "sample"
   ]
  },
  {
   "cell_type": "markdown",
   "id": "c6c276f0-cd4b-4fd4-a636-e0c875a8179f",
   "metadata": {},
   "source": [
    "#### Prior predictive check\n",
    "\n",
    "Simuleerime eeljaotuse eeldusel, et värvide jaotus on ühtlane ning mudeldame sinist värvi kommi valimise tõenäosusjaotuse. Selleks tõmbame binoom-jaotusest 1000 korda meie vaatluste arvuga võrdlse sämpli ning arvutame värv=sinine proportsiooni igas simuleeritud sämplis."
   ]
  },
  {
   "cell_type": "code",
   "execution_count": null,
   "id": "3c0b5faf-a252-4f2d-a8cd-1edeb6e1008c",
   "metadata": {},
   "outputs": [],
   "source": [
    "\n",
    "prior = np.random.binomial(total, 1/6, 1000) / total\n",
    "\n",
    "data = pd.DataFrame(prior, columns=['value'])\n",
    "\n",
    "prior_plot = alt.Chart(data).transform_density(\n",
    "    'value',\n",
    "    as_=['value', 'density'],\n",
    "    #bandwidth = 0.05\n",
    ").mark_area(opacity=0.5).encode(\n",
    "    x=\"value:Q\",\n",
    "    y='density:Q',\n",
    ")\n",
    "\n",
    "prior_plot"
   ]
  },
  {
   "cell_type": "markdown",
   "id": "b4305ad8-cd5d-4636-866f-9b61e28e3bf1",
   "metadata": {},
   "source": [
    "Kirjeldame mudeli, mis sämplib Bernoulli jaotust meie vaatlusandmete põhjal. Sinise värvi esinemissagedusele määrame *flat priori* (p.Uniform()), lubades sellel varieeruda vahemikus nullist üheni. Sellega väljendame, et meil ei ole mingeid eeldusi värvide jaotuse osas - peame eeldusena ühtviisi tõenäoliseks seda, et pakis ei pruugi olla ühtki sinist kommi, et kõik kommid pakis on sinised või et neid on seal 1/6 kõigist kommidest.\n",
    "\n",
    "pm.Uniform() on \"blondi prior\", mis annab mudelile maksimaalse paindlikkuse. Reeglina on meil võimalik valida oma eelteadmiste põhjal paremaid prioreid (antud juhul oleks selleks tõenäosuse väljendamiseks beta-jaotus, või siniste kommide arvu väljendamiseks Poissoni jaotus), aga nii lihtsa mudeli puhul ei ole sellel praktilist mõju. Samuti ei püüa me siin lihtsuse nimel modelleerida erinevate värvide üheaegseid jaotusi, vaid ainult tõenäosust, et pakist juhuslikult valitud komm on sinine."
   ]
  },
  {
   "cell_type": "code",
   "execution_count": null,
   "id": "f9d0d939-d6d5-4559-8201-02a53849ddff",
   "metadata": {},
   "outputs": [],
   "source": [
    "\n",
    "with pm.Model() as mm_model:\n",
    "    p = pm.Uniform('p', lower=0, upper=1)\n",
    "    y = pm.Bernoulli('y', p=p, observed=sample)\n",
    "    \n",
    "pm.model_to_graphviz(mm_model)\n",
    "    \n"
   ]
  },
  {
   "cell_type": "markdown",
   "id": "53e1a44f-557a-4fa5-9c23-fc17402828ce",
   "metadata": {},
   "source": [
    "Mudel sämplib meie poolt antud priori ning vaatluste alusel Bernoulli jaotusest neljas eraldi ahelas 1000 väärtust kalibreerimiseks ning seejärel 2000 väärtust posteriori."
   ]
  },
  {
   "cell_type": "code",
   "execution_count": null,
   "id": "d29d8c25-62d8-4fc0-b838-551caefadc21",
   "metadata": {},
   "outputs": [],
   "source": [
    "with mm_model:\n",
    "    trace = pm.sample(draws=2000, tune=1000, target_accept=0.9)\n",
    "\n",
    "pm.plot_trace(trace)"
   ]
  },
  {
   "cell_type": "markdown",
   "id": "71fb22c5-8f22-483d-8efc-21a01cf7b68d",
   "metadata": {},
   "source": [
    "Kontrollime diagnostikat ning joonistame järeljaotuse (*posterior distribution*) vastavalt vaatlustele."
   ]
  },
  {
   "cell_type": "code",
   "execution_count": null,
   "id": "cafd38e0-2ca2-4e6c-8db8-79bae4e9e762",
   "metadata": {},
   "outputs": [],
   "source": [
    "print(pm.summary(trace))\n",
    "\n",
    "az.plot_posterior(trace, ref_val=0.22)"
   ]
  },
  {
   "cell_type": "markdown",
   "id": "2e6387ef-4f15-4cbe-b946-f5796aa37cc1",
   "metadata": {},
   "source": [
    "Joonistame eel- ja järeljaotuste võrdluse."
   ]
  },
  {
   "cell_type": "code",
   "execution_count": null,
   "id": "6031facb-bfad-49ef-abd6-55c129a96f57",
   "metadata": {},
   "outputs": [],
   "source": [
    "\n",
    "post_plot = alt.Chart(pd.DataFrame(trace.posterior.p[0], columns=['value']), width=400).transform_density(\n",
    "    'value',\n",
    "    as_=['value', 'density'],\n",
    "    #bandwidth = 0.05\n",
    ").mark_area(opacity=0.5, color='pink').encode(\n",
    "    x=\"value:Q\",\n",
    "    y='density:Q',\n",
    ")\n",
    "\n",
    "post_plot + prior_plot"
   ]
  },
  {
   "cell_type": "code",
   "execution_count": null,
   "id": "167e6747-a936-4870-8a7a-b7af80d2249e",
   "metadata": {},
   "outputs": [],
   "source": [
    "import scipy.stats as stats\n",
    "from matplotlib import pyplot as plt \n",
    "\n",
    "def posterior_grid(grid=10, a=2, b=2, heads=5, trials=20): \n",
    "    grid = np.linspace(0, 1, grid)\n",
    "    prior = stats.beta(a, b).pdf(grid)\n",
    "    likelihood = stats.binom.pmf(heads, trials, grid) \n",
    "    posterior = likelihood * prior\n",
    "    posterior /= posterior.sum()\n",
    "\n",
    "    _, ax = plt.subplots(1, 3, sharex=True, figsize=(16, 4)) \n",
    "    ax[0].set_title(f\"sinine = {heads}\\ntrials = {trials}\") \n",
    "    for i, (e, e_n) in enumerate(zip(\n",
    "            [prior, likelihood, posterior],\n",
    "            [\"prior\", \"likelihood\", \"posterior\"])):\n",
    "        ax[i].set_yticks([])\n",
    "        ax[i].plot(grid, e, \"o-\", label=e_n)\n",
    "        ax[i].legend(fontsize=14)\n",
    "\n",
    "#az.style.use(\"arviz-viridish\")\n",
    "posterior_grid(heads=sinised, trials=total)"
   ]
  },
  {
   "cell_type": "code",
   "execution_count": null,
   "id": "02d29e11-a97f-49e9-9807-770777875dbd",
   "metadata": {},
   "outputs": [],
   "source": [
    "%matplotlib inline\n",
    "from IPython.core.pylabtools import figsize\n",
    "\n",
    "figsize(11, 7)\n",
    "\n",
    "dist = stats.beta\n",
    "n_trials = [0, 1, 2, 3, 4, 5, 20, 50, 500]\n",
    "data = stats.bernoulli.rvs(0.24, size=n_trials[-1])\n",
    "x = np.linspace(0, 1, 100)\n",
    "\n",
    "for k, N in enumerate(n_trials):\n",
    "    sx = plt.subplot(len(n_trials)//2, 3, k+1)\n",
    "    plt.xlabel(\"$p$, tõenäosus, et komm on sinine\") \\\n",
    "        if k in [0, len(n_trials)-1] else None\n",
    "    plt.setp(sx.get_yticklabels(), visible=False)\n",
    "    heads = data[:N].sum()\n",
    "    y = dist.pdf(x, 1 + heads, 1 + N - heads)\n",
    "    plt.plot(x, y, label=\"võetud %d kommi,\\n %d sinised\" % (N, heads))\n",
    "    plt.fill_between(x, 0, y, color=\"#348ABD\", alpha=0.4)\n",
    "    plt.vlines(0.5, 0, 4, color=\"k\", linestyles=\"--\", lw=1)\n",
    "\n",
    "    leg = plt.legend()\n",
    "    leg.get_frame().set_alpha(0.4)\n",
    "    plt.autoscale(tight=True)\n",
    "\n",
    "\n",
    "plt.suptitle(\"Bayesian järeltõenäosuste uuendamine\",\n",
    "             y=1.02,\n",
    "             fontsize=14)\n",
    "\n",
    "plt.tight_layout()"
   ]
  },
  {
   "cell_type": "code",
   "execution_count": null,
   "id": "32eb2967-6ee1-48a8-8850-6184544dcb1d",
   "metadata": {},
   "outputs": [],
   "source": [
    "import numpy as np\n",
    "import pandas as pd\n",
    "import pymc as pm\n",
    "import arviz as az\n",
    "\n",
    "# Example data: Replace this with your actual dataset\n",
    "data = {\n",
    "    \"Red\": [12, 15, 13, 10, 14],\n",
    "    \"Blue\": [10, 9, 11, 12, 8],\n",
    "    \"Green\": [8, 11, 10, 13, 10],\n",
    "    \"Yellow\": [6, 7, 5, 8, 9],\n",
    "    \"Orange\": [4, 3, 6, 4, 5]\n",
    "}\n",
    "df = pd.DataFrame(data)\n",
    "\n",
    "# Prepare data for modeling\n",
    "data_counts = df.values\n",
    "num_bags, num_colors = data_counts.shape\n",
    "color_names = df.columns.tolist()\n",
    "\n",
    "# Multinomial regression with PyMC\n",
    "with pm.Model(coords={\"colors\": color_names}) as model:\n",
    "    # Priors for the category probabilities (logit scale)\n",
    "    intercept = pm.Normal(\"intercept\", mu=0, sigma=2, dims=\"colors\")\n",
    "\n",
    "    # Softmax transformation to convert logit scale to probabilities\n",
    "    p = pm.Deterministic(\"p\", pm.math.softmax(intercept), dims=\"colors\")\n",
    "\n",
    "    # Multinomial likelihood\n",
    "    likelihood = pm.Multinomial(\n",
    "        \"likelihood\",\n",
    "        n=data_counts.sum(axis=1),  # Total counts per bag\n",
    "        p=p,\n",
    "        observed=data_counts\n",
    "    )\n",
    "\n",
    "    # Sampling\n",
    "    trace = pm.sample(2000, tune=1000, target_accept=0.9, return_inferencedata=True)\n",
    "\n",
    "# Summarize the results\n",
    "az.plot_trace(trace)\n"
   ]
  },
  {
   "cell_type": "code",
   "execution_count": null,
   "id": "61507824",
   "metadata": {},
   "outputs": [],
   "source": [
    "az.summary(trace)"
   ]
  },
  {
   "cell_type": "code",
   "execution_count": null,
   "id": "6b786b59",
   "metadata": {},
   "outputs": [],
   "source": [
    "df.mean() / df.sum(axis=1).mean()"
   ]
  },
  {
   "cell_type": "code",
   "execution_count": null,
   "id": "f7967ef9",
   "metadata": {},
   "outputs": [],
   "source": [
    "\n",
    "# Multinomial regression with PyMC\n",
    "with pm.Model(coords={\"colors\": color_names}) as model:\n",
    "    # Dirichlet prior for the category probabilities\n",
    "    alpha = pm.HalfNormal(\"alpha\", sigma=2, shape=num_colors)\n",
    "    p = pm.Dirichlet(\"p\", a=alpha, dims=\"colors\")\n",
    "\n",
    "    # Multinomial likelihood\n",
    "    likelihood = pm.Multinomial(\n",
    "        \"likelihood\",\n",
    "        n=data_counts.sum(axis=1),  # Total counts per bag\n",
    "        p=p,\n",
    "        observed=data_counts\n",
    "    )\n",
    "\n",
    "    # Sampling\n",
    "    trace = pm.sample(2000, tune=1000, target_accept=0.9, return_inferencedata=True)\n",
    "\n",
    "# Summarize the results\n",
    "az.plot_trace(trace, kind='rank_bars')\n",
    "\n"
   ]
  },
  {
   "cell_type": "code",
   "execution_count": null,
   "id": "467a3c6e",
   "metadata": {},
   "outputs": [],
   "source": [
    "az.summary(trace, var_names=[\"p\"])\n"
   ]
  },
  {
   "cell_type": "code",
   "execution_count": null,
   "id": "5d4a66f1",
   "metadata": {},
   "outputs": [],
   "source": []
  }
 ],
 "metadata": {
  "kernelspec": {
   "display_name": "salk",
   "language": "python",
   "name": "python3"
  },
  "language_info": {
   "codemirror_mode": {
    "name": "ipython",
    "version": 3
   },
   "file_extension": ".py",
   "mimetype": "text/x-python",
   "name": "python",
   "nbconvert_exporter": "python",
   "pygments_lexer": "ipython3",
   "version": "3.12.8"
  }
 },
 "nbformat": 4,
 "nbformat_minor": 5
}
