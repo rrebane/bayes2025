{
 "cells": [
  {
   "cell_type": "code",
   "execution_count": null,
   "metadata": {},
   "outputs": [],
   "source": [
    "from graphviz import Digraph\n",
    "\n",
    "dot = Digraph(comment='The Round Table')\n",
    "dot.node('A', 'King Arthur')\n",
    "dot.node('B', 'Sir Bedevere the Wise')\n",
    "dot.node('L', 'Sir Lancelot the Brave') # add a node\n",
    "dot.edges(['AB', 'AL']) # add edges\n",
    "dot.edge('B', 'L', constraint='false') # add an edge with constraint\n",
    "\n",
    "print(dot.source) # print the dot file\n",
    "\n",
    "dot"
   ]
  },
  {
   "cell_type": "markdown",
   "metadata": {},
   "source": [
    "### **Let's dive in!**\n",
    "**Come up with a causal models and draw DAGs for the situations described below:**\n",
    "\n",
    "1. Identify Key Variables: Start by listing the treatment, outcome, and any potential confounds.\n",
    "\n",
    "2. Draw Arrows Carefully: Arrows represent causal relationships. Be explicit about the direction of causality.\n",
    "\n",
    "3. Check for Confounding: Look for variables that influence both the treatment and the outcome.\n",
    "\n",
    "4. Validate Assumptions: Ensure the DAG reflects realistic causal relationships in the problem domain.\n",
    "\n",
    "5. Discuss the type of confounding (there may be more to it than \"elemental confounds\"!) and expected bias."
   ]
  },
  {
   "cell_type": "markdown",
   "metadata": {},
   "source": [
    "##### **Effect of a New Drug**\n",
    "**Problem:** A new drug is being tested to reduce blood pressure. However, patients who take the drug are also more likely to exercise regularly, which independently affects blood pressure."
   ]
  },
  {
   "cell_type": "code",
   "execution_count": 5,
   "metadata": {},
   "outputs": [],
   "source": [
    "dot = Digraph(comment='New Drug')"
   ]
  },
  {
   "cell_type": "markdown",
   "metadata": {},
   "source": [
    "##### **Effect of a New Drug 2**\n",
    "**Problem:** A new drug is tested to reduce blood pressure. Patients who take the drug are more likely to experience side effects, and those who experience side effects are more likely to drop out of the study. Dropout status is influenced by both the drug and side effects."
   ]
  },
  {
   "cell_type": "code",
   "execution_count": null,
   "metadata": {},
   "outputs": [],
   "source": []
  },
  {
   "cell_type": "markdown",
   "metadata": {},
   "source": [
    "##### **Effect of Tutoring on Test Scores**\n",
    "**Problem**: A school introduces a tutoring program to improve students' math test scores. However, students who opt for tutoring also tend to have more supportive parents, who may independently help with homework."
   ]
  },
  {
   "cell_type": "code",
   "execution_count": null,
   "metadata": {},
   "outputs": [],
   "source": []
  },
  {
   "cell_type": "markdown",
   "metadata": {},
   "source": [
    "##### **Effect of Tutoring on Test Scores 2**\n",
    "**Problem**: A tutoring program is offered to students who score below a certain threshold on a pre-test. However, the pre-test score is influenced by both student ability and test anxiety, which also affects post-test scores."
   ]
  },
  {
   "cell_type": "code",
   "execution_count": null,
   "metadata": {},
   "outputs": [],
   "source": []
  },
  {
   "cell_type": "markdown",
   "metadata": {},
   "source": [
    "#### **Effect of Education on Income**\n",
    "* **Problem:** Researchers want to estimate the effect of higher education on income. However, individuals with higher education also tend to have better social networks, which can independently increase income.\n",
    "\n",
    "* **Task:** Draw a DAG to represent the relationships between education, social networks, and income. Identify any confounders or mediators."
   ]
  },
  {
   "cell_type": "code",
   "execution_count": null,
   "metadata": {},
   "outputs": [],
   "source": []
  },
  {
   "cell_type": "markdown",
   "metadata": {},
   "source": [
    "##### **Effect of Social Media on Mental Health**\n",
    "**Problem**: A study investigates whether social media use causes depression. Social media use increases screen time, which reduces sleep quality, and poor sleep quality directly affects mental health."
   ]
  },
  {
   "cell_type": "code",
   "execution_count": null,
   "metadata": {},
   "outputs": [],
   "source": []
  },
  {
   "cell_type": "markdown",
   "metadata": {},
   "source": [
    "##### **Environment: Effect of Pollution on Health**\n",
    "**Problem**: Researchers want to estimate the effect of long-term air pollution exposure on respiratory health. However, individuals may move to less polluted areas if they develop respiratory symptoms, creating a feedback loop."
   ]
  },
  {
   "cell_type": "code",
   "execution_count": null,
   "metadata": {},
   "outputs": [],
   "source": []
  },
  {
   "cell_type": "markdown",
   "metadata": {},
   "source": [
    "##### **Effect of Solar Panels on Electricity Bills**\n",
    "**Problem**: A study investigates the effect of installing solar panels on household electricity bills. However, households with solar panels also tend to be more energy-conscious, which independently reduces electricity usage."
   ]
  },
  {
   "cell_type": "code",
   "execution_count": null,
   "metadata": {},
   "outputs": [],
   "source": []
  },
  {
   "cell_type": "markdown",
   "metadata": {},
   "source": [
    "##### **Effect of a Job Training Program**\n",
    "**Problem**: A job training program is offered to unemployed individuals. The program is more effective for younger participants, but older participants are more likely to enroll due to outreach efforts targeting them."
   ]
  },
  {
   "cell_type": "code",
   "execution_count": null,
   "metadata": {},
   "outputs": [],
   "source": []
  },
  {
   "cell_type": "markdown",
   "metadata": {},
   "source": [
    "##### **Effect of Fertilizer on Crop Yield**\n",
    "**Problem**: A study investigates the effect of fertilizer on crop yield. However, the effect of fertilizer depends on soil quality: it increases yield in high-quality soil but has no effect in low-quality soil.\n",
    "\n"
   ]
  },
  {
   "cell_type": "code",
   "execution_count": null,
   "metadata": {},
   "outputs": [],
   "source": []
  },
  {
   "cell_type": "markdown",
   "metadata": {},
   "source": [
    "##### **Effect of Sleep on Academic Performance**\n",
    "**Problem**: Researchers want to estimate the effect of sleep duration on academic performance. However, sleep duration is measured using self-reports, which are prone to error, and the measurement error is correlated with stress levels."
   ]
  },
  {
   "cell_type": "code",
   "execution_count": null,
   "metadata": {},
   "outputs": [],
   "source": []
  },
  {
   "cell_type": "markdown",
   "metadata": {},
   "source": [
    "##### **Effect of Police Presence on Crime Rates**\n",
    "**Problem**: A city increases police presence in high-crime neighborhoods to reduce crime. However, reduced crime leads to decreased police presence over time, creating a feedback loop."
   ]
  },
  {
   "cell_type": "code",
   "execution_count": null,
   "metadata": {},
   "outputs": [],
   "source": []
  },
  {
   "cell_type": "markdown",
   "metadata": {},
   "source": [
    "##### **Effect of Screen Time on Sleep Quality**\n",
    "**Problem**: Researchers want to estimate the effect of screen time on sleep quality. However, screen time also affects blue light exposure, which directly impacts sleep quality, but blue light exposure is not measured."
   ]
  },
  {
   "cell_type": "code",
   "execution_count": null,
   "metadata": {},
   "outputs": [],
   "source": []
  },
  {
   "cell_type": "markdown",
   "metadata": {},
   "source": [
    "##### **Effect of Diet on Heart Disease**\n",
    "**Problem**: A study investigates the effect of a low-sodium diet on heart disease. However, individuals with high blood pressure are more likely to adopt a low-sodium diet, and high blood pressure independently increases heart disease risk."
   ]
  },
  {
   "cell_type": "code",
   "execution_count": null,
   "metadata": {},
   "outputs": [],
   "source": []
  },
  {
   "cell_type": "markdown",
   "metadata": {},
   "source": [
    "##### **Effect of Solar Panels on Electricity Bills**\n",
    "**Problem**: A study investigates the effect of installing solar panels on household electricity bills. However, households with solar panels are more likely to adopt energy-efficient appliances, which also reduce electricity bills."
   ]
  },
  {
   "cell_type": "code",
   "execution_count": null,
   "metadata": {},
   "outputs": [],
   "source": []
  },
  {
   "cell_type": "markdown",
   "metadata": {},
   "source": [
    "##### **Effect of Marriage on Happiness**\n",
    "**Problem**: A study investigates whether marriage increases happiness. However, happier individuals are also more likely to get married, creating reverse causality. How would you deal with this?"
   ]
  },
  {
   "cell_type": "code",
   "execution_count": null,
   "metadata": {},
   "outputs": [],
   "source": []
  },
  {
   "cell_type": "markdown",
   "metadata": {},
   "source": [
    "##### **Effect of Vaccination on Disease Spread**\n",
    "**Problem**: Researchers want to estimate the effect of vaccination on disease spread. However, vaccinated individuals are more likely to interact with other vaccinated individuals, creating network effects."
   ]
  },
  {
   "cell_type": "code",
   "execution_count": null,
   "metadata": {},
   "outputs": [],
   "source": []
  }
 ],
 "metadata": {
  "kernelspec": {
   "display_name": "salk",
   "language": "python",
   "name": "salk"
  },
  "language_info": {
   "codemirror_mode": {
    "name": "ipython",
    "version": 3
   },
   "file_extension": ".py",
   "mimetype": "text/x-python",
   "name": "python",
   "nbconvert_exporter": "python",
   "pygments_lexer": "ipython3",
   "version": "3.12.9"
  }
 },
 "nbformat": 4,
 "nbformat_minor": 2
}
