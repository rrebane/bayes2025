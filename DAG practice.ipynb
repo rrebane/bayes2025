{
 "cells": [
  {
   "cell_type": "code",
   "execution_count": null,
   "metadata": {},
   "outputs": [],
   "source": [
    "from graphviz import Digraph\n",
    "\n",
    "dot = Digraph(comment='The Round Table')\n",
    "dot.node('A', 'King Arthur')\n",
    "dot.node('B', 'Sir Bedevere the Wise')\n",
    "dot.node('L', 'Sir Lancelot the Brave') # add a node\n",
    "dot.edges(['AB', 'AL']) # add edges\n",
    "dot.edge('B', 'L', constraint='false') # add an edge with constraint\n",
    "\n",
    "print(dot.source) # print the dot file\n",
    "\n",
    "dot"
   ]
  },
  {
   "cell_type": "markdown",
   "metadata": {},
   "source": [
    "### **Let's dive in!**\n",
    "**Come up with a causal models and draw DAGs for the situations described below:**\n",
    "\n",
    "1. Identify Key Variables: Start by listing the treatment, outcome, and any potential confounds.\n",
    "\n",
    "2. Draw Arrows Carefully: Arrows represent causal relationships. Be explicit about the direction of causality.\n",
    "\n",
    "3. Check for Confounding: Look for variables that influence both the treatment and the outcome.\n",
    "\n",
    "4. Validate Assumptions: Ensure the DAG reflects realistic causal relationships in the problem domain.\n",
    "\n",
    "5. Discuss the type of confounding (there may be more to it than \"elemental confounds\"!) and expected bias."
   ]
  },
  {
   "cell_type": "markdown",
   "metadata": {},
   "source": [
    "##### **Effect of a New Drug**\n",
    "**Problem:** A new drug is being tested to reduce blood pressure. \n",
    "\n",
    "**Variables**: New Drug (yes/no), Blood pressure, Level of Exercise"
   ]
  },
  {
   "cell_type": "code",
   "execution_count": 5,
   "metadata": {},
   "outputs": [],
   "source": [
    "dot = Digraph(comment='New Drug')"
   ]
  },
  {
   "cell_type": "markdown",
   "metadata": {},
   "source": [
    "##### **Effect of a New Drug 2**\n",
    "**Problem:** A new drug is tested to reduce blood pressure.\n",
    "\n",
    "**Variables** New Drug, Blood pressure, Side effects, Staying in study"
   ]
  },
  {
   "cell_type": "code",
   "execution_count": null,
   "metadata": {},
   "outputs": [],
   "source": []
  },
  {
   "cell_type": "markdown",
   "metadata": {},
   "source": [
    "##### **Effect of Tutoring on Test Scores**\n",
    "**Problem**: A school introduces a tutoring program to improve students' math test scores. \n",
    "\n",
    "**Variables**: Tutoring, Math test scores, Parental support"
   ]
  },
  {
   "cell_type": "code",
   "execution_count": null,
   "metadata": {},
   "outputs": [],
   "source": []
  },
  {
   "cell_type": "markdown",
   "metadata": {},
   "source": [
    "##### **Effect of Tutoring on Test Scores 2**\n",
    "**Problem**: A tutoring program is offered to students who score below a certain threshold on a pre-test. \n",
    "\n",
    "**Variables**: Pre-test score, Post-test score, Tutoring, Test anxiety"
   ]
  },
  {
   "cell_type": "code",
   "execution_count": null,
   "metadata": {},
   "outputs": [],
   "source": []
  },
  {
   "cell_type": "markdown",
   "metadata": {},
   "source": [
    "#### **Effect of Education on Income**\n",
    "**Problem:** Researchers want to estimate the effect of higher education on income.\n",
    "\n",
    "**Variables:** Education, social networks, and income"
   ]
  },
  {
   "cell_type": "code",
   "execution_count": null,
   "metadata": {},
   "outputs": [],
   "source": []
  },
  {
   "cell_type": "markdown",
   "metadata": {},
   "source": [
    "##### **Effect of Social Media on Mental Health**\n",
    "**Problem**: A study investigates whether social media use causes depression. \n",
    "\n",
    "**Variables**: Social media use, screen time, sleep quality, mental health."
   ]
  },
  {
   "cell_type": "code",
   "execution_count": null,
   "metadata": {},
   "outputs": [],
   "source": []
  },
  {
   "cell_type": "markdown",
   "metadata": {},
   "source": [
    "##### **Environment: Effect of Pollution on Health**\n",
    "**Problem**: Researchers want to estimate the effect of long-term air pollution exposure on respiratory health. \n",
    "\n",
    "**Variables**: Pollution level, Respiratory health, Duration lived in same place"
   ]
  },
  {
   "cell_type": "code",
   "execution_count": null,
   "metadata": {},
   "outputs": [],
   "source": []
  },
  {
   "cell_type": "markdown",
   "metadata": {},
   "source": [
    "##### **Effect of Solar Panels on Electricity Bills**\n",
    "**Problem**: A study investigates the effect of installing solar panels on household electricity bills.\n",
    "\n",
    "**Variables**: Solar panels, eco-consciousness, electricity bills"
   ]
  },
  {
   "cell_type": "code",
   "execution_count": null,
   "metadata": {},
   "outputs": [],
   "source": []
  },
  {
   "cell_type": "markdown",
   "metadata": {},
   "source": [
    "##### **Effect of a Job Training Program**\n",
    "**Problem**: A job training program is offered to unemployed individuals, specifically targeting older participants.\n",
    "\n",
    "**Variables**: Enrollment (yes/no), age, Employment status in 1 year"
   ]
  },
  {
   "cell_type": "code",
   "execution_count": null,
   "metadata": {},
   "outputs": [],
   "source": []
  },
  {
   "cell_type": "markdown",
   "metadata": {},
   "source": [
    "##### **Effect of Fertilizer on Crop Yield**\n",
    "**Problem**: A study investigates the effect of fertilizer on crop yield.\n",
    "\n",
    "**Variables**: Fertilizer, Crop yield, Soil quality\n"
   ]
  },
  {
   "cell_type": "code",
   "execution_count": null,
   "metadata": {},
   "outputs": [],
   "source": []
  },
  {
   "cell_type": "markdown",
   "metadata": {},
   "source": [
    "##### **Effect of Sleep on Academic Performance**\n",
    "**Problem**: Researchers want to estimate the effect of sleep duration on academic performance. \n",
    "\n",
    "**Variable**: Sleep duration (self-report), academic performance, stress levels"
   ]
  },
  {
   "cell_type": "code",
   "execution_count": null,
   "metadata": {},
   "outputs": [],
   "source": []
  },
  {
   "cell_type": "markdown",
   "metadata": {},
   "source": [
    "##### **Effect of Police Presence on Crime Rates**\n",
    "**Problem**: A city increases police presence in high-crime neighborhoods to reduce crime. \n",
    "\n",
    "**Variables**: Police presence, Crime level\n"
   ]
  },
  {
   "cell_type": "code",
   "execution_count": null,
   "metadata": {},
   "outputs": [],
   "source": []
  },
  {
   "cell_type": "markdown",
   "metadata": {},
   "source": [
    "##### **Effect of Marriage on Happiness**\n",
    "**Problem**: A study investigates whether marriage increases happiness. \n",
    "\n",
    "**Variables**: happiness, marriage status, pre-marriage happiness"
   ]
  },
  {
   "cell_type": "code",
   "execution_count": null,
   "metadata": {},
   "outputs": [],
   "source": []
  },
  {
   "cell_type": "markdown",
   "metadata": {},
   "source": [
    "##### **Effect of Vaccination on Disease Spread**\n",
    "**Problem**: Researchers want to estimate the effect of vaccination on disease spread. \n",
    "\n",
    "**Variables**: Vaccination status, Disease status, Average vaccination rate in community"
   ]
  },
  {
   "cell_type": "code",
   "execution_count": null,
   "metadata": {},
   "outputs": [],
   "source": []
  }
 ],
 "metadata": {
  "kernelspec": {
   "display_name": "salk",
   "language": "python",
   "name": "salk"
  },
  "language_info": {
   "codemirror_mode": {
    "name": "ipython",
    "version": 3
   },
   "file_extension": ".py",
   "mimetype": "text/x-python",
   "name": "python",
   "nbconvert_exporter": "python",
   "pygments_lexer": "ipython3",
   "version": "3.12.9"
  }
 },
 "nbformat": 4,
 "nbformat_minor": 2
}
