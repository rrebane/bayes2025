{
 "cells": [
  {
   "cell_type": "code",
   "execution_count": null,
   "metadata": {},
   "outputs": [],
   "source": [
    "# Load the data\n",
    "import pandas as pd\n",
    "\n",
    "df = pd.read_csv('./data/Free throw.csv.zip').drop('Timestamp', axis=1)\n",
    "df.columns = ['age', 'athleticism', 'y0', 'y1']\n",
    "df.y0 /=50\n",
    "df.y1 /=50\n",
    "\n",
    "df.head()"
   ]
  },
  {
   "cell_type": "code",
   "execution_count": null,
   "metadata": {},
   "outputs": [],
   "source": [
    "# Draw the DAG\n",
    "\n",
    "from graphviz import Digraph\n",
    "\n",
    "dag = Digraph()\n",
    "\n",
    "dag.node('A', 'age')\n",
    "dag"
   ]
  },
  {
   "cell_type": "code",
   "execution_count": null,
   "metadata": {},
   "outputs": [],
   "source": [
    "# Code the model\n",
    "\n",
    "import pymc as pm\n",
    "\n",
    "with pm.Model() as model:\n",
    "    ..."
   ]
  }
 ],
 "metadata": {
  "kernelspec": {
   "display_name": "salk",
   "language": "python",
   "name": "salk"
  },
  "language_info": {
   "codemirror_mode": {
    "name": "ipython",
    "version": 3
   },
   "file_extension": ".py",
   "mimetype": "text/x-python",
   "name": "python",
   "nbconvert_exporter": "python",
   "pygments_lexer": "ipython3",
   "version": "3.12.9"
  }
 },
 "nbformat": 4,
 "nbformat_minor": 2
}
