{
 "cells": [
  {
   "cell_type": "code",
   "execution_count": null,
   "metadata": {},
   "outputs": [],
   "source": [
    "# Load the data and libraries\n",
    "import pandas as pd\n",
    "import numpy as np\n",
    "import pymc as pm\n",
    "import arviz as az\n",
    "from scipy.special import expit as invlogit\n",
    "\n",
    "data = pd.read_csv('./data/Free throw.csv.zip').drop('Timestamp', axis=1)\n",
    "data.columns = ['age', 'gender', 'athleticism', 'y0', 'y1']\n",
    "\n",
    "true_effect = data.y1 - data.y0\n",
    "y0 = data.y0\n",
    "y1 = data.y1\n",
    "\n",
    "n = len(data)\n",
    "\n",
    "np.random.seed(42)\n",
    "n = 1000\n",
    "x = np.random.randint(1, 11, size=n)\n",
    "y1 = np.random.binomial(50, invlogit(0.2 * x - 1.5))\n",
    "y0 = np.random.binomial(50, invlogit(0.2 * x - 2.0))\n",
    "data = pd.DataFrame({\"x\": x, \"y1\": y1, \"y0\": y0})\n",
    "\n",
    "print(f'True ATE for all respondents {true_effect.mean():.2f} with an sd of {true_effect.std():.2f}')\n",
    "\n"
   ]
  },
  {
   "cell_type": "code",
   "execution_count": null,
   "metadata": {},
   "outputs": [],
   "source": [
    "### Assign random treatment\n",
    "\n",
    "z = np.random.binomial(1, 0.5, size=n)\n",
    "y = np.where(z == 1, y1, y0)\n",
    "\n",
    "est = np.mean(y[z == 1]) - np.mean(y[z == 0])\n",
    "s1 = np.std(y[z == 1], ddof=1)\n",
    "s0 = np.std(y[z == 0], ddof=1)\n",
    "n1 = np.sum(z == 1)\n",
    "n0 = np.sum(z == 0)\n",
    "se = np.sqrt(s1**2 / n1 + s0**2 / n0)\n",
    "\n",
    "print(f'Random treatment ETA {est:.2f} with sd of {se:.2f}')"
   ]
  },
  {
   "cell_type": "code",
   "execution_count": null,
   "metadata": {},
   "outputs": [],
   "source": [
    "## Next let's estimate it using a model\n",
    "\n",
    "with pm.Model() as model:\n",
    "    alpha = pm.Normal(\"alpha\", mu=0, sigma=10)\n",
    "    beta = pm.Normal(\"beta\", mu=0, sigma=10)\n",
    "    sigma = pm.HalfCauchy(\"sigma\", beta=5)\n",
    "\n",
    "    mu = alpha + beta * z\n",
    "    likelihood = pm.Normal(\"y\", mu=mu, sigma=sigma, observed=y)\n",
    "\n",
    "    trace = pm.sample()\n",
    "\n",
    "print(pm.summary(trace))\n",
    "pm.plot_posterior(trace, var_names=[\"beta\"], ref_val=5.66)"
   ]
  },
  {
   "cell_type": "code",
   "execution_count": null,
   "metadata": {},
   "outputs": [],
   "source": [
    "trace.posterior.beta.plot.hist()"
   ]
  },
  {
   "cell_type": "code",
   "execution_count": null,
   "metadata": {},
   "outputs": [],
   "source": [
    "### Biased estimate\n",
    "\n",
    "p_treat = invlogit(x - 5.5)\n",
    "z = np.random.binomial(1, p_treat)\n",
    "y = np.where(z == 1, y1, y0)\n",
    "\n",
    "# Estimate the ATE with a model\n",
    "\n",
    "with pm.Model() as model2:\n",
    "    ...\n",
    "\n"
   ]
  },
  {
   "cell_type": "code",
   "execution_count": null,
   "metadata": {},
   "outputs": [],
   "source": [
    "### Now add adjustment for pre-treatment and model the ETA again\n",
    "\n"
   ]
  },
  {
   "cell_type": "code",
   "execution_count": null,
   "metadata": {},
   "outputs": [],
   "source": [
    "# Biased in the other direction\n",
    "\n",
    "p_treat = invlogit(-(x - 5.5))\n",
    "z = np.random.binomial(1, p_treat)\n",
    "y = np.where(z == 1, y1, y0)\n",
    "\n",
    "# Estimate the ATE with a model\n",
    "\n",
    "with pm.Model() as model3:\n",
    "    ..."
   ]
  },
  {
   "cell_type": "code",
   "execution_count": null,
   "metadata": {},
   "outputs": [],
   "source": [
    "# Code the model\n",
    "\n",
    "import pymc as pm\n",
    "\n",
    "with pm.Model() as model:\n",
    "    ..."
   ]
  }
 ],
 "metadata": {
  "kernelspec": {
   "display_name": "salk",
   "language": "python",
   "name": "salk"
  },
  "language_info": {
   "codemirror_mode": {
    "name": "ipython",
    "version": 3
   },
   "file_extension": ".py",
   "mimetype": "text/x-python",
   "name": "python",
   "nbconvert_exporter": "python",
   "pygments_lexer": "ipython3",
   "version": "3.12.9"
  }
 },
 "nbformat": 4,
 "nbformat_minor": 2
}
