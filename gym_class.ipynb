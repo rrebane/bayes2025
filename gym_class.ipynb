{
 "cells": [
  {
   "cell_type": "markdown",
   "metadata": {},
   "source": [
    "# Dataset description\n",
    "\n",
    "Data was collected from gym teachers of high school boys.\n",
    "For each boy, we know the height (in cm) and their 100m sprint time (in s).\n",
    "Additionally, they were all asked if they liked playing basketball, dodgeball and soccer in the class.\n",
    "\n",
    "# Analysis\n",
    "\n",
    "We are interested in the effect of height on sprint times"
   ]
  },
  {
   "cell_type": "code",
   "execution_count": 2,
   "metadata": {},
   "outputs": [],
   "source": [
    "import pandas as pd\n",
    "df = pd.read_csv('gym_class.csv')"
   ]
  },
  {
   "cell_type": "markdown",
   "metadata": {},
   "source": [
    "Set some basic semi-informative priors and run the linear model"
   ]
  },
  {
   "cell_type": "code",
   "execution_count": null,
   "metadata": {},
   "outputs": [],
   "source": [
    "import pymc as pm\n",
    "import pytensor.tensor as pt\n",
    "\n",
    "with pm.Model() as model:\n",
    "\n",
    "    icept = pm.Normal('icept',10,10)\n",
    "    hcoef = pm.Normal('hcoef',0,0.2)\n",
    "    gcoef = pm.Normal('gcoef',0,1,size=3)\n",
    "\n",
    "    res = icept + hcoef*df['height'] + pt.dot(gcoef,df[['basketball','dodgeball','soccer']].to_numpy().T)\n",
    "\n",
    "    err = pm.HalfNormal('err')\n",
    "    pm.Normal('obs',res,err,observed=df['sprint'])\n",
    "\n",
    "    trace = pm.sample()"
   ]
  },
  {
   "cell_type": "code",
   "execution_count": null,
   "metadata": {},
   "outputs": [],
   "source": [
    "# Plot the distributions \n",
    "import arviz as az, matplotlib.pyplot as plt\n",
    "az.plot_posterior(trace)\n",
    "plt.show()"
   ]
  },
  {
   "cell_type": "code",
   "execution_count": null,
   "metadata": {},
   "outputs": [],
   "source": [
    "# Write the numerical summary table\n",
    "pm.summary(trace)"
   ]
  }
 ],
 "metadata": {
  "kernelspec": {
   "display_name": "salk",
   "language": "python",
   "name": "python3"
  },
  "language_info": {
   "codemirror_mode": {
    "name": "ipython",
    "version": 3
   },
   "file_extension": ".py",
   "mimetype": "text/x-python",
   "name": "python",
   "nbconvert_exporter": "python",
   "pygments_lexer": "ipython3",
   "version": "3.12.2"
  }
 },
 "nbformat": 4,
 "nbformat_minor": 2
}
